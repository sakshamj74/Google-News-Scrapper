{
 "cells": [
  {
   "cell_type": "code",
   "execution_count": 5,
   "metadata": {},
   "outputs": [],
   "source": [
    "from bs4 import BeautifulSoup\n",
    "import requests\n",
    "import pandas as pd"
   ]
  },
  {
   "cell_type": "code",
   "execution_count": 60,
   "metadata": {},
   "outputs": [],
   "source": [
    "url=\"https://news.google.com/topics/CAAqJggKIiBDQkFTRWdvSUwyMHZNRGx6TVdZU0FtVnVHZ0pKVGlnQVAB?hl=en-IN&gl=IN&ceid=IN%3Aen\"\n",
    "response = requests.get(url)\n",
    "soup = BeautifulSoup(response.text,'html.parser')\n",
    "start=0\n",
    "final=15 #No. of news to be fetched can be changed as per convenience\n",
    "main_news=[]\n",
    "sub_news=[]\n",
    "main_url=[]\n",
    "sub_url=[]\n",
    "main_time=[]\n",
    "sub_time=[]\n",
    "main_source=[]\n",
    "sub_source=[]\n",
    "for x in soup.findAll(\"div\",{'jscontroller':'d0DtYd'}):\n",
    "    for y in x.findAll(\"div\",class_=\"xrnccd F6Welf R7GTQ keNKEd j7vNaf\"):\n",
    "        main_news.append(y.find('h3').find('a').text)\n",
    "        sub_news.append(y.find('h4').find('a').text)\n",
    "        main_url.append(y.find('h3').find('a',href=True)['href'])\n",
    "        sub_url.append(y.find('h4').find('a',href=True)['href'])\n",
    "        main_source.append(y.find('div',{'jsname':'Hn1wIf'}).find('a',class_=\"wEwyrc AVN2gc uQIVzc Sksgp\").text)\n",
    "        sub_source.append(y.find('div',{'jsname':'GNGJO'}).find('a',class_='wEwyrc AVN2gc uQIVzc Sksgp').text)\n",
    "        main_time.append(y.find('div',{'jsname':'Hn1wIf'}).find('time',class_='WW6dff uQIVzc Sksgp')['datetime'])\n",
    "        sub_time.append(y.find('div',{'jsname':'GNGJO'}).find('time',class_='WW6dff uQIVzc Sksgp')['datetime'])\n",
    "        start+=1\n",
    "        if start==final:\n",
    "            break\n",
    "    if start==final:\n",
    "        break"
   ]
  },
  {
   "cell_type": "code",
   "execution_count": 66,
   "metadata": {},
   "outputs": [],
   "source": [
    "main=pd.DataFrame()\n",
    "main['news_title']=main_news\n",
    "main['source']=main_source\n",
    "main['time stamp']=main_time\n",
    "main['url']= main_url\n",
    "main['url']='https://news.google.com' + main['url'][0].replace('.','')"
   ]
  },
  {
   "cell_type": "code",
   "execution_count": 68,
   "metadata": {},
   "outputs": [
    {
     "data": {
      "text/html": [
       "<div>\n",
       "<style scoped>\n",
       "    .dataframe tbody tr th:only-of-type {\n",
       "        vertical-align: middle;\n",
       "    }\n",
       "\n",
       "    .dataframe tbody tr th {\n",
       "        vertical-align: top;\n",
       "    }\n",
       "\n",
       "    .dataframe thead th {\n",
       "        text-align: right;\n",
       "    }\n",
       "</style>\n",
       "<table border=\"1\" class=\"dataframe\">\n",
       "  <thead>\n",
       "    <tr style=\"text-align: right;\">\n",
       "      <th></th>\n",
       "      <th>news_title</th>\n",
       "      <th>source</th>\n",
       "      <th>time stamp</th>\n",
       "      <th>url</th>\n",
       "    </tr>\n",
       "  </thead>\n",
       "  <tbody>\n",
       "    <tr>\n",
       "      <td>0</td>\n",
       "      <td>Facebook in talks to acquire stake in top Indi...</td>\n",
       "      <td>TechCrunch</td>\n",
       "      <td>2020-03-24T16:25:59Z</td>\n",
       "      <td>https://news.google.com/articles/CAIiEIainE6AE...</td>\n",
       "    </tr>\n",
       "    <tr>\n",
       "      <td>1</td>\n",
       "      <td>Taking Stock: FM comments soothe nerves; Nifty...</td>\n",
       "      <td>Moneycontrol.com</td>\n",
       "      <td>2020-03-24T13:21:00Z</td>\n",
       "      <td>https://news.google.com/articles/CAIiEIainE6AE...</td>\n",
       "    </tr>\n",
       "    <tr>\n",
       "      <td>2</td>\n",
       "      <td>Coronavirus Outbreak: India needs stimulus pla...</td>\n",
       "      <td>Firstpost</td>\n",
       "      <td>2020-03-24T12:22:09Z</td>\n",
       "      <td>https://news.google.com/articles/CAIiEIainE6AE...</td>\n",
       "    </tr>\n",
       "    <tr>\n",
       "      <td>3</td>\n",
       "      <td>Nation under lockdown for 21 days, but stock m...</td>\n",
       "      <td>Moneycontrol.com</td>\n",
       "      <td>2020-03-24T16:11:00Z</td>\n",
       "      <td>https://news.google.com/articles/CAIiEIainE6AE...</td>\n",
       "    </tr>\n",
       "    <tr>\n",
       "      <td>4</td>\n",
       "      <td>Covid-19: Coca-Cola, Nestle, other beverage ma...</td>\n",
       "      <td>Livemint</td>\n",
       "      <td>2020-03-24T15:18:10Z</td>\n",
       "      <td>https://news.google.com/articles/CAIiEIainE6AE...</td>\n",
       "    </tr>\n",
       "  </tbody>\n",
       "</table>\n",
       "</div>"
      ],
      "text/plain": [
       "                                          news_title            source  \\\n",
       "0  Facebook in talks to acquire stake in top Indi...        TechCrunch   \n",
       "1  Taking Stock: FM comments soothe nerves; Nifty...  Moneycontrol.com   \n",
       "2  Coronavirus Outbreak: India needs stimulus pla...         Firstpost   \n",
       "3  Nation under lockdown for 21 days, but stock m...  Moneycontrol.com   \n",
       "4  Covid-19: Coca-Cola, Nestle, other beverage ma...          Livemint   \n",
       "\n",
       "             time stamp                                                url  \n",
       "0  2020-03-24T16:25:59Z  https://news.google.com/articles/CAIiEIainE6AE...  \n",
       "1  2020-03-24T13:21:00Z  https://news.google.com/articles/CAIiEIainE6AE...  \n",
       "2  2020-03-24T12:22:09Z  https://news.google.com/articles/CAIiEIainE6AE...  \n",
       "3  2020-03-24T16:11:00Z  https://news.google.com/articles/CAIiEIainE6AE...  \n",
       "4  2020-03-24T15:18:10Z  https://news.google.com/articles/CAIiEIainE6AE...  "
      ]
     },
     "execution_count": 68,
     "metadata": {},
     "output_type": "execute_result"
    }
   ],
   "source": [
    "main.head()"
   ]
  },
  {
   "cell_type": "code",
   "execution_count": 69,
   "metadata": {},
   "outputs": [],
   "source": [
    "sub=pd.DataFrame()  #converting news to DataFrame\n",
    "sub['news_title']=sub_news\n",
    "sub['source']=sub_source\n",
    "sub['time stamp']=sub_time\n",
    "sub['url']= sub_url\n",
    "sub['url']='https://news.google.com' + sub['url'][0].replace('.','')"
   ]
  },
  {
   "cell_type": "code",
   "execution_count": 70,
   "metadata": {},
   "outputs": [
    {
     "data": {
      "text/html": [
       "<div>\n",
       "<style scoped>\n",
       "    .dataframe tbody tr th:only-of-type {\n",
       "        vertical-align: middle;\n",
       "    }\n",
       "\n",
       "    .dataframe tbody tr th {\n",
       "        vertical-align: top;\n",
       "    }\n",
       "\n",
       "    .dataframe thead th {\n",
       "        text-align: right;\n",
       "    }\n",
       "</style>\n",
       "<table border=\"1\" class=\"dataframe\">\n",
       "  <thead>\n",
       "    <tr style=\"text-align: right;\">\n",
       "      <th></th>\n",
       "      <th>news_title</th>\n",
       "      <th>source</th>\n",
       "      <th>time stamp</th>\n",
       "      <th>url</th>\n",
       "    </tr>\n",
       "  </thead>\n",
       "  <tbody>\n",
       "    <tr>\n",
       "      <td>0</td>\n",
       "      <td>Reliance to pay twice to those employees who e...</td>\n",
       "      <td>Livemint</td>\n",
       "      <td>2020-03-24T10:21:49Z</td>\n",
       "      <td>https://news.google.com/articles/CBMieWh0dHBzO...</td>\n",
       "    </tr>\n",
       "    <tr>\n",
       "      <td>1</td>\n",
       "      <td>Sensex, Nifty hold gains as investors pin hope...</td>\n",
       "      <td>Livemint</td>\n",
       "      <td>2020-03-24T03:02:22Z</td>\n",
       "      <td>https://news.google.com/articles/CBMieWh0dHBzO...</td>\n",
       "    </tr>\n",
       "    <tr>\n",
       "      <td>2</td>\n",
       "      <td>Coronavirus pandemic | India needs stimulus pl...</td>\n",
       "      <td>Moneycontrol</td>\n",
       "      <td>2020-03-24T08:50:44Z</td>\n",
       "      <td>https://news.google.com/articles/CBMieWh0dHBzO...</td>\n",
       "    </tr>\n",
       "    <tr>\n",
       "      <td>3</td>\n",
       "      <td>Stock market to remain open despite 21-day Ind...</td>\n",
       "      <td>Economic Times</td>\n",
       "      <td>2020-03-24T17:09:00Z</td>\n",
       "      <td>https://news.google.com/articles/CBMieWh0dHBzO...</td>\n",
       "    </tr>\n",
       "    <tr>\n",
       "      <td>4</td>\n",
       "      <td>Soon A Chaas From Coca-Cola</td>\n",
       "      <td>BloombergQuint</td>\n",
       "      <td>2020-03-24T11:06:26Z</td>\n",
       "      <td>https://news.google.com/articles/CBMieWh0dHBzO...</td>\n",
       "    </tr>\n",
       "  </tbody>\n",
       "</table>\n",
       "</div>"
      ],
      "text/plain": [
       "                                          news_title          source  \\\n",
       "0  Reliance to pay twice to those employees who e...        Livemint   \n",
       "1  Sensex, Nifty hold gains as investors pin hope...        Livemint   \n",
       "2  Coronavirus pandemic | India needs stimulus pl...    Moneycontrol   \n",
       "3  Stock market to remain open despite 21-day Ind...  Economic Times   \n",
       "4                        Soon A Chaas From Coca-Cola  BloombergQuint   \n",
       "\n",
       "             time stamp                                                url  \n",
       "0  2020-03-24T10:21:49Z  https://news.google.com/articles/CBMieWh0dHBzO...  \n",
       "1  2020-03-24T03:02:22Z  https://news.google.com/articles/CBMieWh0dHBzO...  \n",
       "2  2020-03-24T08:50:44Z  https://news.google.com/articles/CBMieWh0dHBzO...  \n",
       "3  2020-03-24T17:09:00Z  https://news.google.com/articles/CBMieWh0dHBzO...  \n",
       "4  2020-03-24T11:06:26Z  https://news.google.com/articles/CBMieWh0dHBzO...  "
      ]
     },
     "execution_count": 70,
     "metadata": {},
     "output_type": "execute_result"
    }
   ],
   "source": [
    "sub.head()"
   ]
  },
  {
   "cell_type": "code",
   "execution_count": 73,
   "metadata": {},
   "outputs": [
    {
     "name": "stdout",
     "output_type": "stream",
     "text": [
      "Enter string to be searched\n"
     ]
    },
    {
     "name": "stdin",
     "output_type": "stream",
     "text": [
      " Stock\n"
     ]
    },
    {
     "name": "stdout",
     "output_type": "stream",
     "text": [
      "The news with entered string is---------------------- Stock market to remain open despite 21-day India lockdown\n"
     ]
    }
   ],
   "source": [
    "def sub_news_search(sub_news,string): #Function to search word in sub news\n",
    "    for i in sub_news:\n",
    "        if i.find(string)!=-1:\n",
    "            print(\"The news with entered string is----------------------\",i)\n",
    "print(\"Enter string to be searched\")\n",
    "string=input()\n",
    "sub_news_search(sub_news,string) #Printing news with the entered substring\n",
    "\n"
   ]
  },
  {
   "cell_type": "code",
   "execution_count": 74,
   "metadata": {},
   "outputs": [
    {
     "name": "stdout",
     "output_type": "stream",
     "text": [
      "Enter string to be searched\n"
     ]
    },
    {
     "name": "stdin",
     "output_type": "stream",
     "text": [
      " Corona\n"
     ]
    },
    {
     "name": "stdout",
     "output_type": "stream",
     "text": [
      "The news with entered string is---------------------- Coronavirus Outbreak: India needs stimulus plan or it risks crippling small businesses, say industry bodies\n"
     ]
    }
   ],
   "source": [
    "def main_news_search(main_news,string): #Function to search word in main news\n",
    "    for i in main_news:\n",
    "        if i.find(string)!=-1:\n",
    "            print(\"The news with entered string is----------------------\",i)\n",
    "\n",
    "print(\"Enter string to be searched\")\n",
    "string=input()\n",
    "main_news_search(main_news,string) #Printing news with the entered substring"
   ]
  },
  {
   "cell_type": "code",
   "execution_count": 75,
   "metadata": {},
   "outputs": [],
   "source": [
    "def sub_download(): #Function to download sub news as txt file\n",
    "    sub.to_csv('sub_news.txt')\n",
    "def main_download(): #Function to download main news as txt file\n",
    "    main.to_csv('main_news.txt')"
   ]
  },
  {
   "cell_type": "code",
   "execution_count": 76,
   "metadata": {},
   "outputs": [],
   "source": [
    "sub_download()"
   ]
  },
  {
   "cell_type": "code",
   "execution_count": 77,
   "metadata": {},
   "outputs": [],
   "source": [
    "main_download()"
   ]
  },
  {
   "cell_type": "code",
   "execution_count": null,
   "metadata": {},
   "outputs": [],
   "source": []
  }
 ],
 "metadata": {
  "kernelspec": {
   "display_name": "Python 3",
   "language": "python",
   "name": "python3"
  },
  "language_info": {
   "codemirror_mode": {
    "name": "ipython",
    "version": 3
   },
   "file_extension": ".py",
   "mimetype": "text/x-python",
   "name": "python",
   "nbconvert_exporter": "python",
   "pygments_lexer": "ipython3",
   "version": "3.7.3"
  }
 },
 "nbformat": 4,
 "nbformat_minor": 4
}
